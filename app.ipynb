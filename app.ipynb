{
 "cells": [
  {
   "cell_type": "markdown",
   "id": "9215459b-80a8-4052-852d-da4039c28ae9",
   "metadata": {},
   "source": [
    "# Enkel webbserver med Flask\n",
    "\n",
    "## Vad är en server?\n",
    "\n",
    "Någonting som betjänar förfrågningar över ett nätverk.\n",
    "\n",
    "* En dator\n",
    "* Ett datorprogram\n",
    "\n",
    "Datorn eller datorprogrammet som gör förfrågningen kallas för klient.\n",
    "\n",
    "Vilken nätverksansluten dator som helst kan vara en server.\n",
    "\n",
    "* Laptop\n",
    "* Stationär dator\n",
    "* Raspberry Pi\n",
    "\n",
    "<figure style=\"text-align:center\">\n",
    "    <img src=\"img/devil.jpg\" style=\"max-width:20em\" />\n",
    "    <figcaption>Devil, sektionens huvudserver, står i en serverhall under mattehuset.</figcaption>\n",
    "</figure>\n",
    "\n",
    "Med serverdator menar man dock ofta en dator som är specialbyggd för att vara server.\n",
    "\n",
    "* Annan formfaktor för att kunna staplas i standardiserade serverskåp\n",
    "* Bra nätverksanslutningar\n",
    "* Ofta många CPU-trådar för att kunna betjäna många klienter samtidigt\n",
    "* Ingen grafikacceleration\n",
    "\n",
    "<figure style=\"text-align:center\">\n",
    "    <img src=\"img/rack-server.jpg\" style=\"max-width:20em\" />\n",
    "    <figcaption>Server för rackmontering. I ett serverskåp får ca 15 sådana plats.</figcaption>\n",
    "</figure>\n",
    "\n",
    "### Webbservrar\n",
    "\n",
    "På server-datorn körs server-appliktaioner som är de program som skapar anslutningar till och kommunicerar med klienter. En typ av serverappliktiation är en webbserver. De är tänkta att svara på förfrågningar från webbläsare. Webbläsaren är alltså klient.\n",
    "\n",
    "För att webbservern och webbläsaren ska kunna kommunicera behöver de ett gemensamt språk - ett protokoll. Det vanligaste protokollet heter HTTP och fungerar så här:\n",
    "\n",
    "När en anslutning mellan servern och klienten har skapats skickar klienten en förfrågan som kan se ut så här:\n",
    "\n",
    "```\n",
    "GET /spidera/om HTTP/1.1\n",
    "Host: ftek.se\n",
    "Connection: Keep-Alive\n",
    "```\n",
    "\n",
    "Webbservern tolkar förfrågan och skickar tillbaks ett svar, t.ex.\n",
    "\n",
    "```\n",
    "HTTP/1.1 200 OK\n",
    "Content-Length: 47\n",
    "Content-Type: text/plain\n",
    "Connection: Closed\n",
    "\n",
    "Spidera är fysikteknologsektionens IT-förening!\n",
    "```\n",
    "\n",
    "När webbläsaren tagit emot svaret kan den visa svarsmeddelandet."
   ]
  },
  {
   "cell_type": "markdown",
   "id": "f96f23ea-c32d-4baf-baa6-9dfe400b45c6",
   "metadata": {},
   "source": [
    "## Flask\n",
    "\n",
    "[Flask](https://flask.palletsprojects.com/en/2.0.x/) är ett pythonramverk för att utveckla egna webbservrar. "
   ]
  },
  {
   "cell_type": "code",
   "execution_count": null,
   "id": "804d911f-7182-4369-a3ff-214cab3fa6f4",
   "metadata": {},
   "outputs": [],
   "source": [
    "# Installera flask\n",
    "%pip install flask"
   ]
  },
  {
   "cell_type": "markdown",
   "id": "8c02ae40-51c6-47f8-9632-917c6088095d",
   "metadata": {},
   "source": [
    "Prova att kopiera in [exempelkoden](https://flask.palletsprojects.com/en/2.0.x/quickstart/#a-minimal-application) för en mimimal Flask-applikation nedan:"
   ]
  },
  {
   "cell_type": "code",
   "execution_count": null,
   "id": "64a6d6be-a5bd-4fe5-8d98-448de663d00f",
   "metadata": {},
   "outputs": [],
   "source": [
    "# Kopiera in Hello-World-applikationen här!"
   ]
  },
  {
   "cell_type": "markdown",
   "id": "5cc6b1ba-85eb-4333-83ba-bc1e3d531edd",
   "metadata": {},
   "source": [
    "För att köra Flask-applikationen direk från Jupyter, kör följande kommando:"
   ]
  },
  {
   "cell_type": "code",
   "execution_count": null,
   "id": "da528d20-94c3-44dc-ac91-e9724bf9c7f9",
   "metadata": {},
   "outputs": [],
   "source": [
    "app.run(debug=True,use_reloader=False)"
   ]
  },
  {
   "cell_type": "markdown",
   "id": "d378b5c9-6f12-439e-9012-71c526fd6081",
   "metadata": {},
   "source": [
    "Gå nu till <http://localhost:5000> (eller <http://127.0.0.1:5000>) i din webbläsare. Du bör se följande meddelande:\n",
    "\n",
    "<p>Hello, World!</p>\n",
    "\n",
    "**OBS: Webbservern körs nu i bakgrunden. För att kunna köra andra celler i den här notebooken behöver du stoppa python-kärnan med stoppknappen först.**"
   ]
  },
  {
   "cell_type": "markdown",
   "id": "6ca06eb0-2ca2-4857-9e2c-a894521b0813",
   "metadata": {},
   "source": [
    "Högerklicka på webbsidan och välj \"Inspect\". Välj \"Network\"-fliken. Om du inte ser en lista över förfrågningar som webbläsaren gjort kan du behöva ladda om sidan med nätverks-fliken öppen. Markera sedan den första raden i listan.\n",
    "\n",
    "<figure style=\"text-align:center\">\n",
    "    <img src=\"img/firefox-network.png\" style=\"max-width:40em\" />\n",
    "    <figcaption>Nätverks-fliken i Firefox</figcaption>\n",
    "</figure>\n",
    "\n",
    "Klicka sedan på \"Headers\"-fliken för att se HTTP-fälten i förfrågan som din webbläsare gjorde och svaret som din webbserver skickade.\n",
    "\n",
    "<figure style=\"text-align:center\">\n",
    "    <img src=\"img/firefox-headers.png\" style=\"max-width:30em\" />\n",
    "    <figcaption>Förfrågnings- och svarsfält i Firefox.</figcaption>\n",
    "</figure>\n",
    "\n",
    "Notera att Flask som standard skickar fältet `Content-Type: text/html` som indikerar att svarskroppen består av HTML-källkod. [HTML](https://www.w3schools.com/html/) är ett markupspråk (typsättningsspråk) som används för att placera text, bilder, länkar, tabeller m.m. på ett dokument."
   ]
  },
  {
   "cell_type": "markdown",
   "id": "89c71054-c9c2-4b93-b2c1-075a8cceeaf5",
   "metadata": {},
   "source": [
    "Vilket annat markupspråk används flitigt på F-sektionen?"
   ]
  },
  {
   "cell_type": "code",
   "execution_count": null,
   "id": "8b367005-7532-4e33-bef5-de89d8be2069",
   "metadata": {},
   "outputs": [],
   "source": [
    "import hashlib\n",
    "h = hashlib.sha256()\n",
    "\n",
    "guess = \"...\" # Fyll i ditt svar här, eller försök kanske knäcka svaret med brute force?\n",
    "\n",
    "# Här genereras en så kallad hash-sträng från gissningen.\n",
    "h.update(guess.lower().encode(\"utf-8\"))\n",
    "\n",
    "assert h.hexdigest() == \"60e5f258a91a88dd4a57ec0f990064febb5a84a584de775288645ad1de5c08cd\", \\\n",
    "    \"Det var inte språket jag tänkte på...\"\n",
    "print(\"Rätt!\")"
   ]
  },
  {
   "cell_type": "markdown",
   "id": "7a83d4b5-d747-41ee-a953-ad08bbd39a5f",
   "metadata": {},
   "source": [
    "HTML är ett relativt enkelt markupspråk. Källkoden för ett typiskt dokument kan se ut så här:\n",
    "\n",
    "```html\n",
    "<html>\n",
    "    <head>\n",
    "        <title>Min indexsida!</title>\n",
    "    </head>\n",
    "    <body>\n",
    "        <h1>Titel</h1>\n",
    "        <p>Lite text in en paragraf</p>\n",
    "        <h2>En undertitel</h2>\n",
    "        <ul>\n",
    "            <li>En punktlista</li>\n",
    "            <li>Med två punkter</li>\n",
    "        </ul>\n",
    "        <input type=\"text\" value=\"En textruta!\" />\n",
    "        <input type=\"submit\" value=\"En knapp!\" />\n",
    "    </body>\n",
    "</html>\n",
    "```"
   ]
  },
  {
   "cell_type": "markdown",
   "id": "60cc9a76-7bad-4447-9a03-0eff54426f20",
   "metadata": {},
   "source": [
    "Testa HTML-koden genom att skapa en ny route på din server. Man registrerar en route i Flask genom att lägga till raden\n",
    "\n",
    "```python\n",
    "@app.route(\"/min/route\")\n",
    "```\n",
    "\n",
    "ovanför funktionen som man vill ska kallas när man går till motsvarande URL i webbläsaren. Funktionen ska returnera en sträng, se Hello-World-routen som vi har sedan tidiagare:\n",
    "\n",
    "```python\n",
    "@app.route(\"/\")\n",
    "def hello_world():\n",
    "    return \"<p>Hello, World!</p>\"\n",
    "```\n",
    "\n",
    "Gör så att den nya routen returnar HTML-koden från exemplet ovan, eller skriv ett eget HTML-dokument."
   ]
  },
  {
   "cell_type": "code",
   "execution_count": null,
   "id": "ac306aee-9a6a-468d-bc14-208629759705",
   "metadata": {},
   "outputs": [],
   "source": [
    "app = Flask(__name__)\n",
    "\n",
    "@app.route(\"/\")\n",
    "def hello_world():\n",
    "    return \"<p>Hello, World!</p>\"\n",
    "\n",
    "# Lägg till den nya routen här!\n",
    "\n",
    "# Kom ihåg att stoppa python när du är klar med den här cellen\n",
    "app.run(debug=True,use_reloader=False)"
   ]
  },
  {
   "cell_type": "markdown",
   "id": "3fcbfe14-e4b7-4b1a-ad12-40b709b2c9ca",
   "metadata": {},
   "source": [
    "Än så länge är vår hemsida helt statisk, d.v.s. varje sida visar alltid samma innehåll. I Flask finns en genväg för att skapa statiskt innehåll: `static`-mappen. Flask matchar automatiskt ihop routen du anger i webbläsaren med filer som ligger i denna mapp. Skapa en fil i static-mappen, t.ex. `statisk.txt`. Starta sedan webbservern och besök motsvarande URL, t.ex. <http://127.0.0.1:5000/static/statisk.txt> Testa även att skapa undermappar i `static`."
   ]
  },
  {
   "cell_type": "code",
   "execution_count": null,
   "id": "fc8085b7-224c-456f-bda0-9d5812c527b0",
   "metadata": {},
   "outputs": [],
   "source": [
    "# Kom ihåg att stoppa python när du är klar med den här cellen\n",
    "app.run(debug=True,use_reloader=False)"
   ]
  },
  {
   "cell_type": "markdown",
   "id": "dbcdc689-e232-44d7-821a-502b4849d2eb",
   "metadata": {},
   "source": [
    "## Inloggningssida\n",
    "\n",
    "För att göra en inloggningssida behöver vi först ett HTML-dokument som välkomnar användaren och visar en ruta där man kan skriva in sina inloggningsuppgifter:\n",
    "\n",
    "```html\n",
    "<html>\n",
    "    <head>\n",
    "        <title>Logga in</title>\n",
    "    </head>\n",
    "    <body>\n",
    "        <h1>Välkommen!</h1>\n",
    "        <p>inloggningsuppgifter in ditt lösenord i formuläret nedan:</p>\n",
    "        <form method=\"get\">\n",
    "            <label for=\"pword\">\n",
    "            <input name=\"pword\" type=\"password\" />\n",
    "            <input type=\"submit\" />\n",
    "        </form>\n",
    "    </body>\n",
    "</html>\n",
    "```\n",
    "\n",
    "Gör en route som visar denna HTML."
   ]
  },
  {
   "cell_type": "code",
   "execution_count": null,
   "id": "367c16e3-44d1-4c72-801f-b02f419a84b8",
   "metadata": {},
   "outputs": [],
   "source": [
    "app = Flask(__name__)\n",
    "\n",
    "# Fyll i din kod här\n",
    "\n",
    "# Kom ihåg att stoppa python när du är klar med den här cellen\n",
    "app.run(debug=True,use_reloader=False)"
   ]
  },
  {
   "cell_type": "markdown",
   "id": "78714fbd-8abf-4a71-a8b2-a685cb8213c7",
   "metadata": {},
   "source": [
    "Notera vad som händer med sidan och ditt lösenord när du klickar på logga-in knappen. Det är `<form>`-taggen i vårt HTML-dokument som gör så att sidan laddas om och lösenordet hamnar i URL:en när man trycker på en knapp med attributet `type=\"submit\"`. Notera att vi också satte attributet `name=\"pword\"` i vår HTML.\n",
    "\n",
    "Att lösenordet ligger i URL-en gör dock att det skickas till vår webbserver när sidan laddas om. Då kan vi i python verifiera att lösenordet är rätt.\n",
    "\n",
    "Allting som kommer efter `?` i en URL brukar kallas för query-parametrar. Flask kommer automatiskt skala bort dessa när den matchar vår URL mot de routrar som vi har definierat. Istället sparar Flask dessa parametrar i en variabel som går att komma åt på följande vis:\n",
    "\n",
    "```python\n",
    "from flask import request\n",
    "\n",
    "@app.route(\"/\")\n",
    "def hello_world():\n",
    "    if \"min-parameter\" in request.values:\n",
    "        my_parameter = request.values[\"min-parameter\"]\n",
    "    else:\n",
    "        my_parameter = None\n",
    "    \n",
    "    return ...\n",
    "```\n",
    "\n",
    "Skapa en route baserad på denna kodsnutt som visar ett neutralt meddelande om man inte angett någon parameter, ett positivt meddelande om parameterns värde är `1234` och ett negativt meddelande om parametern har något annat värde."
   ]
  },
  {
   "cell_type": "code",
   "execution_count": null,
   "id": "10ac97f7-77f7-4fdf-af4f-4bc0ebe0faf6",
   "metadata": {},
   "outputs": [],
   "source": [
    "from flask import request\n",
    "\n",
    "app = Flask(__name__)\n",
    "\n",
    "@app.route(\"/\")\n",
    "def log_in():\n",
    "    # Lägg till din kod här\n",
    "    return \"...\"\n",
    "    \n",
    "# Kom ihåg att stoppa python när du är klar med den här cellen\n",
    "app.run(debug=True,use_reloader=False)"
   ]
  },
  {
   "cell_type": "markdown",
   "id": "36e40746-07fe-4183-a340-e8758637eb9e",
   "metadata": {},
   "source": [
    "Kombinera nu HTML-formuläret och kontrollen av query-parametrarna till en mycket enkel (och sårbar) inloggningssida!"
   ]
  },
  {
   "cell_type": "code",
   "execution_count": null,
   "id": "3a4c66fd-f55f-4c35-86cb-66e6241e5209",
   "metadata": {},
   "outputs": [],
   "source": [
    "app = Flask(__name__)\n",
    "\n",
    "@app.route(\"/\", methods=[\"GET\", \"POST\"])\n",
    "def log_in():\n",
    "    # Lägg till din kod här\n",
    "    return \"...\"\n",
    "    \n",
    "# Kom ihåg att stoppa python när du är klar med den här cellen\n",
    "app.run(debug=True,use_reloader=False)"
   ]
  },
  {
   "cell_type": "markdown",
   "id": "c557e477-7edc-4dd6-8244-913959e28d73",
   "metadata": {},
   "source": [
    "Om man inte vill att query-parametrarna ska synas i URL:en kan man byta raden\n",
    "\n",
    "```html\n",
    "<form method=\"get\">\n",
    "```\n",
    "\n",
    "till\n",
    "\n",
    "```html\n",
    "<form method=\"post\">\n",
    "```\n",
    "\n",
    "Då skickas parametern som del av HTTP-kroppen, istället för som del av sökvägen.\n",
    "Notera att detta fortfarande skulle innebära att lösenord skulle skickas i klartext,\n",
    "vilket alltid ska undvikas. Finns det ett sätt att verifiera att en användare har skrivit rätt lösenord utan att skicka lösenordet mellan klienten och servern? Tips: titta i koden där ni gissade markupspråk!\n",
    "\n",
    "För att Flask ska matcha routen korrekt måste du också ändra annoteringen till\n",
    "\n",
    "```python\n",
    "@app.route(\"/\", methods=[\"GET\", \"POST\"])\n",
    "```\n",
    "\n",
    "GET och POST är de två vanligaste lägena för dataöverföring med HTTP.\n",
    "\n",
    "Vill man se hur datan skickas kan man återigen gå i \"Inspect-menyn\" i webbläsaren, gå till nätverksfliken, göra ett inloggningsförsök, markera första raden i nätverksfliken och titta under tabbarna \"Headers\" och \"Request\"."
   ]
  }
 ],
 "metadata": {
  "kernelspec": {
   "display_name": "Python 3 (ipykernel)",
   "language": "python",
   "name": "python3"
  },
  "language_info": {
   "codemirror_mode": {
    "name": "ipython",
    "version": 3
   },
   "file_extension": ".py",
   "mimetype": "text/x-python",
   "name": "python",
   "nbconvert_exporter": "python",
   "pygments_lexer": "ipython3",
   "version": "3.8.15"
  }
 },
 "nbformat": 4,
 "nbformat_minor": 5
}
